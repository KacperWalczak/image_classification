{
  "nbformat": 4,
  "nbformat_minor": 0,
  "metadata": {
    "colab": {
      "provenance": [],
      "authorship_tag": "ABX9TyNNYK9y0k0HifrW0wk+Z3lH",
      "include_colab_link": true
    },
    "kernelspec": {
      "name": "python3",
      "display_name": "Python 3"
    },
    "language_info": {
      "name": "python"
    }
  },
  "cells": [
    {
      "cell_type": "markdown",
      "metadata": {
        "id": "view-in-github",
        "colab_type": "text"
      },
      "source": [
        "<a href=\"https://colab.research.google.com/github/KacperWalczak/image_classification/blob/main/image_classification.ipynb\" target=\"_parent\"><img src=\"https://colab.research.google.com/assets/colab-badge.svg\" alt=\"Open In Colab\"/></a>"
      ]
    },
    {
      "cell_type": "code",
      "source": [
        "from google.colab import drive\n",
        "drive.mount('/content/drive')"
      ],
      "metadata": {
        "colab": {
          "base_uri": "https://localhost:8080/"
        },
        "id": "9ZyFpO7KIybm",
        "outputId": "da2357fa-423f-468b-9452-887c33a144aa"
      },
      "execution_count": 1,
      "outputs": [
        {
          "output_type": "stream",
          "name": "stdout",
          "text": [
            "Mounted at /content/drive\n"
          ]
        }
      ]
    },
    {
      "cell_type": "code",
      "source": [
        "!pip install imageai\n",
        "from imageai.Classification import ImageClassification\n",
        "import os"
      ],
      "metadata": {
        "colab": {
          "base_uri": "https://localhost:8080/"
        },
        "id": "P091IcWKJ25h",
        "outputId": "1281e6f1-757b-410e-e490-ddd56f298085"
      },
      "execution_count": 2,
      "outputs": [
        {
          "output_type": "stream",
          "name": "stdout",
          "text": [
            "Collecting imageai\n",
            "  Downloading imageai-3.0.3-py3-none-any.whl (69 kB)\n",
            "\u001b[?25l     \u001b[90m━━━━━━━━━━━━━━━━━━━━━━━━━━━━━━━━━━━━━━━━\u001b[0m \u001b[32m0.0/69.8 kB\u001b[0m \u001b[31m?\u001b[0m eta \u001b[36m-:--:--\u001b[0m\r\u001b[2K     \u001b[90m━━━━━━━━━━━━━━━━━━━━━━━━━━━━━━━━━━━━━━━━\u001b[0m \u001b[32m69.8/69.8 kB\u001b[0m \u001b[31m2.8 MB/s\u001b[0m eta \u001b[36m0:00:00\u001b[0m\n",
            "\u001b[?25hInstalling collected packages: imageai\n",
            "Successfully installed imageai-3.0.3\n"
          ]
        },
        {
          "output_type": "stream",
          "name": "stderr",
          "text": [
            "/usr/local/lib/python3.10/dist-packages/torchvision/models/_utils.py:208: UserWarning: The parameter 'pretrained' is deprecated since 0.13 and may be removed in the future, please use 'weights' instead.\n",
            "  warnings.warn(\n",
            "/usr/local/lib/python3.10/dist-packages/torchvision/models/_utils.py:223: UserWarning: Arguments other than a weight enum or `None` for 'weights' are deprecated since 0.13 and may be removed in the future. The current behavior is equivalent to passing `weights=None`.\n",
            "  warnings.warn(msg)\n",
            "/usr/local/lib/python3.10/dist-packages/torchvision/models/inception.py:43: FutureWarning: The default weight initialization of inception_v3 will be changed in future releases of torchvision. If you wish to keep the old behavior (which leads to long initialization times due to scipy/scipy#11299), please set init_weights=True.\n",
            "  warnings.warn(\n"
          ]
        }
      ]
    },
    {
      "cell_type": "code",
      "source": [
        "!pip install -U tensorflow keras opencv-python"
      ],
      "metadata": {
        "id": "IetW_x0BKX1b"
      },
      "execution_count": null,
      "outputs": []
    },
    {
      "cell_type": "code",
      "execution_count": 4,
      "metadata": {
        "colab": {
          "base_uri": "https://localhost:8080/"
        },
        "id": "qmFu6PevISsc",
        "outputId": "e0d59fb7-17e2-4339-ddc4-fe93f3a3310c"
      },
      "outputs": [
        {
          "output_type": "stream",
          "name": "stdout",
          "text": [
            "............ ResNet50 predictions are:........\n",
            "German short-haired pointer : 30.053\n",
            "impala : 19.9731\n",
            "gazelle : 7.6219\n",
            "zebra : 7.0344\n",
            "hartebeest : 6.2713\n",
            "............ MobilNet predictions are:........\n",
            "German short-haired pointer : 30.053\n",
            "impala : 19.9731\n",
            "gazelle : 7.6219\n",
            "zebra : 7.0344\n",
            "hartebeest : 6.2713\n",
            "............ DenseNet predictions are:........\n",
            "German short-haired pointer : 30.053\n",
            "impala : 19.9731\n",
            "gazelle : 7.6219\n",
            "zebra : 7.0344\n",
            "hartebeest : 6.2713\n",
            "The right answer is giraffe.\n"
          ]
        }
      ],
      "source": [
        "exec_path = '/content/drive/MyDrive/ML_IMAGE_RECOGNITION'\n",
        "\n",
        "prediction = ImageClassification()\n",
        "\n",
        "\n",
        "def predict_for_me(model_bin, image, model, model_name):\n",
        "  model\n",
        "  prediction.setModelPath(os.path.join(exec_path, model_bin))\n",
        "  prediction.loadModel()\n",
        "  predictions, probabilities = prediction.classifyImage(os.path.join(exec_path, image), result_count=5)\n",
        "  print(f\"............ {model_name} predictions are:........\")\n",
        "  for eachPred, eachProb in zip(predictions, probabilities):\n",
        "      print(f'{eachPred} : {eachProb}')\n",
        "\n",
        "\n",
        "image_name = 'giraffe.jpg'\n",
        "predict_for_me('resnet50-19c8e357.pth', image_name, prediction.setModelTypeAsResNet50(), 'ResNet50')\n",
        "predict_for_me('mobilenet_v2-b0353104.pth', image_name, prediction.setModelTypeAsMobileNetV2(), 'MobilNet')\n",
        "predict_for_me('densenet121-a639ec97.pth', image_name, prediction.setModelTypeAsDenseNet121(), 'DenseNet')\n",
        "\n",
        "\n",
        "print(f'The right answer is {image_name[:-4]}.')\n"
      ]
    }
  ]
}